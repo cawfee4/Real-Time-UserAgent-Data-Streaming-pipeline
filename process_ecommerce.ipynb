{
 "cells": [
  {
   "cell_type": "code",
   "execution_count": null,
   "metadata": {
    "application/vnd.databricks.v1+cell": {
     "cellMetadata": {
      "byteLimit": 2048000,
      "rowLimit": 10000
     },
     "inputWidgets": {},
     "nuid": "a60c21d3-c9f1-4500-9322-59dd760fea4a",
     "showTitle": false,
     "title": ""
    }
   },
   "outputs": [],
   "source": [
    "from pyspark.sql.functions import *\n",
    "from pyspark.sql.types import *"
   ]
  },
  {
   "cell_type": "code",
   "execution_count": null,
   "metadata": {
    "application/vnd.databricks.v1+cell": {
     "cellMetadata": {
      "byteLimit": 2048000,
      "rowLimit": 10000
     },
     "inputWidgets": {},
     "nuid": "912b0475-86e6-4587-9d35-e246c828b6f6",
     "showTitle": false,
     "title": ""
    }
   },
   "outputs": [],
   "source": [
    "bronze_layer = \"/mnt/medallion/bronze\"\n",
    "silver_layer = \"/mnt/medallion/silver\"\n",
    "bronze_layer = \"/mnt/medallion/gold\"\n",
    "\n",
    "bronze_layer_table = \"/mnt/medallion/bronze/ecommerce-user\"\n",
    "silver_layer_table = \"/mnt/medallion/silver/ecommerce-user\"\n",
    "gold_layer_table = \"/mnt/medallion/gold/ecommerce-user\"\n",
    "\n",
    "bronze_layer_checkpoint = \"/mnt/medallion/bronze/ecommerce-user-checkpoint\"\n",
    "silver_layer_checkpoint = \"/mnt/medallion/silver/ecommerce-user-checkpoint\"\n",
    "gold_layer_checkpoint = \"/mnt/medallion/gold/ecommerce-user-checkpoint\"\n",
    "\n"
   ]
  },
  {
   "cell_type": "code",
   "execution_count": null,
   "metadata": {
    "application/vnd.databricks.v1+cell": {
     "cellMetadata": {
      "byteLimit": 2048000,
      "rowLimit": 10000
     },
     "inputWidgets": {},
     "nuid": "5eec3df9-651d-42fe-905e-3eaffbd50c75",
     "showTitle": false,
     "title": ""
    }
   },
   "outputs": [],
   "source": [
    "connectionString = \"InsertConnectionString\"\n",
    "eventHubName = \"InsertEventHubName\"\n",
    "\n",
    "ehConf = {\n",
    "  'eventhubs.connectionString' : sc._jvm.org.apache.spark.eventhubs.EventHubsUtils.encrypt(connectionString),\n",
    "  'eventhubs.eventHubName': eventHubName\n",
    "}\n",
    "     "
   ]
  },
  {
   "cell_type": "markdown",
   "metadata": {
    "application/vnd.databricks.v1+cell": {
     "cellMetadata": {},
     "inputWidgets": {},
     "nuid": "f2ca31c3-087e-45ff-bcd0-4ad5ea136994",
     "showTitle": false,
     "title": ""
    }
   },
   "source": [
    "### Bronze Layer"
   ]
  },
  {
   "cell_type": "code",
   "execution_count": null,
   "metadata": {
    "application/vnd.databricks.v1+cell": {
     "cellMetadata": {
      "byteLimit": 2048000,
      "rowLimit": 10000
     },
     "inputWidgets": {},
     "nuid": "dc81f80d-48be-4edb-af75-a3697c6233b2",
     "showTitle": false,
     "title": ""
    }
   },
   "outputs": [],
   "source": [
    "\n",
    "# Reading stream: Load data from Azure Event Hub into DataFrame 'df' using the previously configured settings\n",
    "df = spark.readStream \\\n",
    "    .format(\"eventhubs\") \\\n",
    "    .options(**ehConf) \\\n",
    "    .load() \\\n",
    "\n",
    "# Displaying stream: Show the incoming streaming data for visualization and debugging purposes\n",
    "df.display()\n",
    "df.writeStream\\\n",
    "    .option(\"checkpointLocation\", bronze_layer_checkpoint)\\\n",
    "    .outputMode(\"append\")\\\n",
    "    .format(\"delta\")\\\n",
    "    .start(bronze_layer_table)"
   ]
  },
  {
   "cell_type": "markdown",
   "metadata": {
    "application/vnd.databricks.v1+cell": {
     "cellMetadata": {},
     "inputWidgets": {},
     "nuid": "edc31a5a-2efe-4002-9af0-ca21d9b536fc",
     "showTitle": false,
     "title": ""
    }
   },
   "source": [
    "### Silver layer"
   ]
  },
  {
   "cell_type": "code",
   "execution_count": null,
   "metadata": {
    "application/vnd.databricks.v1+cell": {
     "cellMetadata": {
      "byteLimit": 2048000,
      "rowLimit": 10000
     },
     "inputWidgets": {},
     "nuid": "81a5d14c-b9bd-4364-9e4c-0e801b33f469",
     "showTitle": false,
     "title": ""
    }
   },
   "outputs": [],
   "source": [
    "ecommerce_user_schema = StructType([\n",
    "    StructField(\"browser\", StringType()),\n",
    "    StructField(\"deviceType\", StringType()),\n",
    "    StructField(\"ip\", StringType()),\n",
    "    StructField(\"os\", StringType()),\n",
    "    StructField(\"path\", StringType())\n",
    "])\n"
   ]
  },
  {
   "cell_type": "code",
   "execution_count": null,
   "metadata": {
    "application/vnd.databricks.v1+cell": {
     "cellMetadata": {
      "byteLimit": 2048000,
      "rowLimit": 10000
     },
     "inputWidgets": {},
     "nuid": "bfa45512-8e18-4c6f-86e8-c0cc9cc619c1",
     "showTitle": false,
     "title": ""
    }
   },
   "outputs": [],
   "source": [
    "from pyspark.sql.functions import to_date\n",
    "\n",
    "silver_df= spark.readStream\\\n",
    "    .format(\"delta\")\\\n",
    "    .load(bronze_layer_table)\\\n",
    "    .withColumn(\"body\", col(\"body\").cast(\"string\"))\\\n",
    "    .withColumn(\"body\", from_json(col(\"body\"), ecommerce_user_schema))\\\n",
    "    .select(\"body.Browser\",\\\n",
    "        \"body.DeviceType\",\\\n",
    "        \"body.IP\",\\\n",
    "        \"body.OS\",\\\n",
    "        \"body.Path\",\\\n",
    "        col(\"enqueuedTime\").alias(\"TimeStamp\")\n",
    "    )\\\n",
    "    .withColumn(\"TimeStamp\", col(\"TimeStamp\") + expr('INTERVAL 7 HOURS')) \\\n",
    "    .withColumn(\"Date\", to_date(col(\"TimeStamp\")))  # Convert TimeStamp to date type\n",
    "\n",
    "silver_df.writeStream\\\n",
    "    .option(\"checkpointLocation\", silver_layer_checkpoint)\\\n",
    "    .outputMode(\"append\")\\\n",
    "    .format(\"delta\")\\\n",
    "    .start(silver_layer_table)\n",
    "\n",
    "silver_df.display()\n"
   ]
  },
  {
   "cell_type": "markdown",
   "metadata": {
    "application/vnd.databricks.v1+cell": {
     "cellMetadata": {},
     "inputWidgets": {},
     "nuid": "f6a59b9f-d17b-413d-a8ab-eaa65ef6cab9",
     "showTitle": false,
     "title": ""
    }
   },
   "source": [
    "### Gold layer"
   ]
  },
  {
   "cell_type": "code",
   "execution_count": null,
   "metadata": {
    "application/vnd.databricks.v1+cell": {
     "cellMetadata": {
      "byteLimit": 2048000,
      "rowLimit": 10000
     },
     "inputWidgets": {},
     "nuid": "c5c15a63-5b51-43a2-b82f-d61b65f0005a",
     "showTitle": false,
     "title": ""
    }
   },
   "outputs": [],
   "source": [
    "from pyspark.sql.functions import approx_count_distinct, hour\n",
    "\n",
    "gold_df = spark.readStream \\\n",
    "    .format(\"delta\") \\\n",
    "    .load(silver_layer_table) \\\n",
    "    .withWatermark(\"TimeStamp\", \"1 hour\") \\\n",
    "    .groupBy(\n",
    "        'Date', 'Browser', 'DeviceType', 'Path', 'OS', \n",
    "        window(\"TimeStamp\", \"1 hour\")\n",
    "    ) \\\n",
    "    .agg(\n",
    "        approx_count_distinct(\"IP\").alias(\"unique_visitors\")\n",
    "    ) \\\n",
    "    .withColumn(\"hour\", hour(col(\"window.start\")))\\\n",
    "    .select(\"Date\", \"hour\",\"Browser\", \"DeviceType\", \"Path\", \"unique_visitors\", \"OS\")\n",
    "gold_df.writeStream\\\n",
    "    .option(\"checkpointLocation\", gold_layer_checkpoint)\\\n",
    "    .outputMode(\"complete\")\\\n",
    "    .format(\"delta\")\\\n",
    "    .start(gold_layer_table)\n",
    "gold_df.display()"
   ]
  }
 ],
 "metadata": {
  "application/vnd.databricks.v1+notebook": {
   "dashboards": [],
   "environmentMetadata": null,
   "language": "python",
   "notebookMetadata": {
    "mostRecentlyExecutedCommandWithImplicitDF": {
     "commandId": 308252382834480,
     "dataframes": [
      "_sqldf"
     ]
    },
    "pythonIndentUnit": 4
   },
   "notebookName": "process_ecommerce_web",
   "widgets": {}
  },
  "language_info": {
   "name": "python"
  }
 },
 "nbformat": 4,
 "nbformat_minor": 0
}
